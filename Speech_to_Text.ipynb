{
 "cells": [
  {
   "cell_type": "code",
   "execution_count": 5,
   "id": "0ce890ad",
   "metadata": {},
   "outputs": [],
   "source": [
    "import speech_recognition as sr"
   ]
  },
  {
   "cell_type": "code",
   "execution_count": 6,
   "id": "2f76d111",
   "metadata": {},
   "outputs": [],
   "source": [
    "r = sr.Recognizer() #initialiation"
   ]
  },
  {
   "cell_type": "code",
   "execution_count": null,
   "id": "f456e38f",
   "metadata": {},
   "outputs": [
    {
     "name": "stdout",
     "output_type": "stream",
     "text": [
      "Speak now\n",
      "result2:\n",
      "{'alternative': [{'transcript': 'hello'}], 'final': True}\n",
      "Speaker :  hello\n",
      "Speak now\n"
     ]
    }
   ],
   "source": [
    "# Convert speech to text in real time\n",
    "while True:\n",
    "    with sr.Microphone() as source:\n",
    "        # clear background noise\n",
    "        r.adjust_for_ambient_noise(source, duration = 0.3)\n",
    "        print(\"Speak now\")\n",
    "        \n",
    "        # capture the audio \n",
    "        audio = r.listen(source)\n",
    "        \n",
    "        try:\n",
    "            text = r.recognize_google(audio)\n",
    "            print(\"Speaker : \", text)\n",
    "            if text == 'quit':\n",
    "                break\n",
    "        except:\n",
    "            print(\"Please say again ! \")"
   ]
  },
  {
   "cell_type": "code",
   "execution_count": 10,
   "id": "06213658",
   "metadata": {},
   "outputs": [
    {
     "name": "stdout",
     "output_type": "stream",
     "text": [
      "Listening to audio\n",
      "result2:\n",
      "{   'alternative': [   {   'confidence': 0.84061199,\n",
      "                           'transcript': 'the still smell old beer drinkers it '\n",
      "                                         'takes hi to bring out the order I '\n",
      "                                         'called up restore It helped him that '\n",
      "                                         'a selfie kotess find him because of '\n",
      "                                         'my favourite is just for food is '\n",
      "                                         'Bihar trust ban'},\n",
      "                       {   'transcript': 'the still smell old beer drinkers it '\n",
      "                                         'takes hi to bring up the older I '\n",
      "                                         'called up restore It helped him that '\n",
      "                                         'a selfie kotess find him because of '\n",
      "                                         'my favourite is just for food is '\n",
      "                                         'Bihar trust ban'},\n",
      "                       {   'transcript': 'the still smell old beer drinkers it '\n",
      "                                         'takes hi to bring out the older I '\n",
      "                                         'called up restore It helped him that '\n",
      "                                         'a selfie kotess find him because of '\n",
      "                                         'my favourite is just for food is '\n",
      "                                         'Bihar trust ban'},\n",
      "                       {   'transcript': 'the still smell old beer drinkers it '\n",
      "                                         'takes hi to bring up the order I '\n",
      "                                         'called up restore It helped him that '\n",
      "                                         'a selfie kotess find him because of '\n",
      "                                         'my favourite is just for food is '\n",
      "                                         'Bihar trust ban'},\n",
      "                       {   'transcript': 'the still smell old beer drinkers it '\n",
      "                                         'takes hi to bring up the older I '\n",
      "                                         'call dip research helps in that a '\n",
      "                                         'selfie kotess find him because of my '\n",
      "                                         'favourite is just for food is Bihar '\n",
      "                                         'trust ban'}],\n",
      "    'final': True}\n",
      "Audio :  the still smell old beer drinkers it takes hi to bring out the order I called up restore It helped him that a selfie kotess find him because of my favourite is just for food is Bihar trust ban\n"
     ]
    }
   ],
   "source": [
    "# Convert audio to text\n",
    "with sr.AudioFile('harvard.wav') as source:\n",
    "    print(\"Listening to audio\")\n",
    "        # capture the audio \n",
    "    audio = r.listen(source)\n",
    "        \n",
    "    try:\n",
    "        text = r.recognize_google(audio)\n",
    "        print(\"Audio : \", text)\n",
    "    except:\n",
    "        print(\"Error ! \")"
   ]
  },
  {
   "cell_type": "code",
   "execution_count": null,
   "id": "fd7510e5",
   "metadata": {},
   "outputs": [],
   "source": []
  }
 ],
 "metadata": {
  "kernelspec": {
   "display_name": "Python 3 (ipykernel)",
   "language": "python",
   "name": "python3"
  },
  "language_info": {
   "codemirror_mode": {
    "name": "ipython",
    "version": 3
   },
   "file_extension": ".py",
   "mimetype": "text/x-python",
   "name": "python",
   "nbconvert_exporter": "python",
   "pygments_lexer": "ipython3",
   "version": "3.9.12"
  }
 },
 "nbformat": 4,
 "nbformat_minor": 5
}
